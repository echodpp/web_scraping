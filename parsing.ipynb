{
 "cells": [
  {
   "cell_type": "markdown",
   "metadata": {},
   "source": [
    "* practice one of the workflows for using HTMLParser \n",
    "* use predefined HTML variables with raw content that can be parsed"
   ]
  },
  {
   "cell_type": "code",
   "execution_count": 1,
   "metadata": {},
   "outputs": [],
   "source": [
    "content = \"\"\"\n",
    "<!DOCTYPE html>\n",
    "<html class=\"client-nojs\" lang=\"en\" dir=\"ltr\">\n",
    "<head>\n",
    "<meta charset=\"UTF-8\"/>\n",
    "<title>1992 World Junior Championships in Athletics – Men's high jump - Wikipedia</title>\n",
    "\"\"\""
   ]
  },
  {
   "cell_type": "code",
   "execution_count": 4,
   "metadata": {},
   "outputs": [],
   "source": [
    "from html.parser import HTMLParser\n",
    "class Parser(HTMLParser):\n",
    "\n",
    "    def __init__(self):\n",
    "        super().__init__()\n",
    "        self.recording = False\n",
    "\n",
    "    def handle_starttag(self, tag, attrs):\n",
    "        if tag == \"title\":\n",
    "            self.recording = True\n",
    "        else:\n",
    "            self.recording = False\n",
    "            \n",
    "    def handle_data(self, data):\n",
    "        if self.recording:\n",
    "            print(f\"Found data for tag: {repr(data)}\")"
   ]
  },
  {
   "cell_type": "markdown",
   "metadata": {},
   "source": [
    " The Python repr() built-in function returns the printable representation of the specified object as a string. example shown below '\\n'"
   ]
  },
  {
   "cell_type": "code",
   "execution_count": 5,
   "metadata": {},
   "outputs": [
    {
     "name": "stdout",
     "output_type": "stream",
     "text": [
      "Found data for tag: \"1992 World Junior Championships in Athletics – Men's high jump - Wikipedia\"\n",
      "Found data for tag: '\\n'\n"
     ]
    }
   ],
   "source": [
    "p = Parser()\n",
    "p.feed(content)"
   ]
  },
  {
   "cell_type": "code",
   "execution_count": 6,
   "metadata": {},
   "outputs": [
    {
     "name": "stdout",
     "output_type": "stream",
     "text": [
      "A string with an empty string var wouldn't show the variable: \n",
      "A string with an empty string var wouldn't show the variable: ''\n"
     ]
    }
   ],
   "source": [
    "# repr() helps when there are hidden characters that `print()` wouldn't show. \n",
    "empty = \"\"\n",
    "print(f\"A string with an empty string var wouldn't show the variable: {empty}\")\n",
    "print(f\"A string with an empty string var wouldn't show the variable: {repr(empty)}\")"
   ]
  },
  {
   "cell_type": "markdown",
   "metadata": {},
   "source": [
    "An alternative you could try is to append the data found to a list instead of printing, and when the parsing is completed, joining the data found. Here is how that would look with an example data."
   ]
  },
  {
   "cell_type": "code",
   "execution_count": 8,
   "metadata": {},
   "outputs": [
    {
     "name": "stdout",
     "output_type": "stream",
     "text": [
      "1992 World Junior Championships in Athletics – Men's high jump\n",
      "\n",
      "Wikipedia\n",
      "[\"1992 World Junior Championships in Athletics – Men's high jump\", '\\n', '\\n', 'Wikipedia']\n"
     ]
    }
   ],
   "source": [
    "captured_data = [\"1992 World Junior Championships in Athletics – Men's high jump\", \"\\n\", \"\\n\", \"Wikipedia\"]\n",
    "print(''.join(captured_data))\n",
    "print(captured_data)"
   ]
  }
 ],
 "metadata": {
  "kernelspec": {
   "display_name": "Python 3.10.5 ('dpp')",
   "language": "python",
   "name": "python3"
  },
  "language_info": {
   "codemirror_mode": {
    "name": "ipython",
    "version": 3
   },
   "file_extension": ".py",
   "mimetype": "text/x-python",
   "name": "python",
   "nbconvert_exporter": "python",
   "pygments_lexer": "ipython3",
   "version": "3.10.5"
  },
  "orig_nbformat": 4,
  "vscode": {
   "interpreter": {
    "hash": "849d6c3c8775fcd616d7006a9080f326098ff42752053d04d35a2efce1d0215c"
   }
  }
 },
 "nbformat": 4,
 "nbformat_minor": 2
}
